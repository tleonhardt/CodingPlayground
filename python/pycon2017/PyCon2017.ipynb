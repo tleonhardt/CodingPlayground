{
 "cells": [
  {
   "cell_type": "markdown",
   "metadata": {
    "slideshow": "-"
   },
   "source": [
    "# Notable Stuff from PyCon 2017\n",
    "## Portland, OR May 17 - 25, 2017"
   ]
  },
  {
   "cell_type": "markdown",
   "metadata": {},
   "source": [
    "## General PyCon 2017 Resources\n",
    "* List of all PyCon 2017 talks and descriptions is available [here](https://us.pycon.org/2017/schedule/talks/)\n",
    "* Slides for many PyCon 2017 talks are on [SpeakerDeck](https://speakerdeck.com/pycon2017)\n",
    "* Videos of all PyCon 2017 talks are on [YouTube](https://www.youtube.com/channel/UCrJhliKNQ8g0qoE_zvL8eVg/feed)"
   ]
  },
  {
   "cell_type": "markdown",
   "metadata": {},
   "source": [
    "## Top Python Tools Enabling Python to Scale\n",
    "These tools are being used by large enterprise companies to service hundreds of millions of monthly users with stacks based on Python and Django. Companies like Instagram, Dropbox, and Yelp are 100% Python and manage to scale to handle on the order of 1 billion users.\n",
    "\n",
    "1. [Cython](http://cython.org/) - C-Extensions for Python\n",
    "    * Excellent talk by Alex Orlov from Instagram on **Cython as a Game Changer for Efficiency**\n",
    "        * [Video](https://www.youtube.com/watch?v=_1MSX7V28Po)\n",
    "    * Entire Instagram stack runs on Python 3 w/ small amounts of Cython\n",
    "        * Services 700+ million users every month\n",
    "    * Instagram sped up their overall entire codebase by 30%\n",
    "        * Saving them millions of $ in server/computing costs\n",
    "        * By Cythonizing < 1% of their code (10-15 files)\n",
    "            * Critical files chosen after extensive profiling\n",
    "        * Took only a few hours of developer time per file\n",
    "        * Amazing return on investment (ROI) for the company!\n",
    "            * Total time spent is 2 engineers, 2 months each!!\n",
    "1. [Python 3.6](https://www.python.org/downloads/release/python-361/) - First version of Python 3 that is better than 2.7\n",
    "    * Lisa Guo and Hui Ding from Instagram gave a great keynote presentation on **Python@Instagram**\n",
    "        * [Video](https://www.youtube.com/watch?v=66XoCk79kjM)\n",
    "        * [Slides](https://www.slideshare.net/LisaGuo4/pycon2017-instagram-keynote?qid=d3614c51-55cc-4344-b97e-74eea144f9ce&v=&b=&from_search=1)\n",
    "    * Results\n",
    "        * Instagram ported their entire codebase from Python 2.7 to Python 3.6\n",
    "        * Saved 12% CPU and 30% RAM globally\n",
    "        * Took a team of developers 9 months \n",
    "    * Reasons for porting\n",
    "        * Optional type hinting\n",
    "        * Better performance\n",
    "        * Python 2.7 end-of-life in 2020\n",
    "    * Biggest challenge\n",
    "        * Unicode vs. byte string differences\n",
    "1. [SWIG](http://www.swig.org/) - Simplified Wrapper and Interface Generator\n",
    "    * Numerous talks on [Tensorflow](https://www.tensorflow.org/)\n",
    "        * Tensorflow is an open source library for machine intelligence developed by Google\n",
    "            * One of the most popular Python libraries ever\n",
    "        * It is fundamentally a C++ library, but has bindings for Python, Java, and Go\n",
    "        * SWIG is what is used to generate all of these wrappers around the C++ code\n",
    "    * SWIG auto-generates wrappers for existing C/C++ code\n",
    "    * SWIG can target about 20 different programming languages\n",
    "        * Python, Java, C#, Go, PHP, Javascript, Perl, Ruby, R, etc.\n",
    "    * You create *.i interface files which tell it what and how to wrap, SWIG does the rest\n",
    "1. [Mypy](http://mypy-lang.org/) - Optional Static Typing for Python\n",
    "    * Jukka Lehtosalo and David Fisher from Dropbox gave a good talk on **Static Types for Python**\n",
    "        * [Video](https://www.youtube.com/watch?v=7ZbwZgrXnwY)\n",
    "    * mypy is an optional static type checker (static analysis tool) for Python\n",
    "        * Relies on optional type hints available in Python 3.5 and 3.6\n",
    "    * Optional type hints also make your code easier to read and maintain\n",
    "    * Developed mainly by Dropbox to help with their millions of lines of Python\n",
    "    * Can get benefits similar to a compiler finding stupid mistakes before runtime\n",
    "    * This is what Guido van Rossum, Python BDFL has been working on\n"
   ]
  },
  {
   "cell_type": "markdown",
   "metadata": {},
   "source": [
    "### Cython\n",
    "Cython is an optimising static compiler for both the Python programming language and the extended Cython programming language (based on Pyrex). It makes writing C extensions for Python as easy as Python itself.  Cython gives you the combined power of Python and C to let you:\n",
    "* write Python code that calls back and forth from and to C or C++ code natively at any point\n",
    "* easily tune readable Python code into plain C performance by adding static type declarations"
   ]
  },
  {
   "cell_type": "code",
   "execution_count": 1,
   "metadata": {
    "collapsed": true
   },
   "outputs": [],
   "source": [
    "# Pure Python Fibonacci example\n",
    "def compute_fibonacci(n):\n",
    "    \"\"\"Computes fibonacci sequence\"\"\"\n",
    "    a = 1\n",
    "    b = 1\n",
    "    intermediate = 0\n",
    "    for x in range(n):\n",
    "        intermediate = a\n",
    "        a += b\n",
    "        b = intermediate\n",
    "    return a"
   ]
  },
  {
   "cell_type": "code",
   "execution_count": 2,
   "metadata": {
    "collapsed": true
   },
   "outputs": [],
   "source": [
    "# To enable support for Cython compilation, install Cython and load the Cython extension from within Jupyter Notebook:\n",
    "%load_ext Cython"
   ]
  },
  {
   "cell_type": "code",
   "execution_count": 3,
   "metadata": {
    "collapsed": true
   },
   "outputs": [],
   "source": [
    "%%cython\n",
    "# Cython version of Fibonacci example\n",
    "cpdef int compute_fibonacci_cython(int n):\n",
    "    \"\"\" Compute the nth fibonacci number in a non-recursive fashion.\"\"\"\n",
    "    cdef int a, b, intermediate, x\n",
    "    a = 1\n",
    "    b = 1\n",
    "    for x in range(n):\n",
    "        intermediate = a\n",
    "        a += b\n",
    "        b = intermediate\n",
    "    return a"
   ]
  },
  {
   "cell_type": "code",
   "execution_count": 4,
   "metadata": {},
   "outputs": [
    {
     "name": "stdout",
     "output_type": "stream",
     "text": [
      "100000 loops, best of 3: 6.36 µs per loop\n"
     ]
    }
   ],
   "source": [
    "N = 100\n",
    "%timeit compute_fibonacci(N)"
   ]
  },
  {
   "cell_type": "code",
   "execution_count": 5,
   "metadata": {},
   "outputs": [
    {
     "name": "stdout",
     "output_type": "stream",
     "text": [
      "The slowest run took 12.87 times longer than the fastest. This could mean that an intermediate result is being cached.\n",
      "10000000 loops, best of 3: 96.7 ns per loop\n"
     ]
    }
   ],
   "source": [
    "%timeit compute_fibonacci_cython(N)"
   ]
  },
  {
   "cell_type": "code",
   "execution_count": 6,
   "metadata": {},
   "outputs": [
    {
     "data": {
      "text/plain": [
       "65.77042399172699"
      ]
     },
     "execution_count": 6,
     "metadata": {},
     "output_type": "execute_result"
    }
   ],
   "source": [
    "6.36e-6/96.7e-9"
   ]
  },
  {
   "cell_type": "markdown",
   "metadata": {},
   "source": [
    "### Python 3.5 and 3.6 Optional Type Hinting\n",
    "The [typing](https://docs.python.org/3/library/typing.html) module supports type hints.  Type hints for function arguments and return types was added in Python 3.5.  Type hints for local variables was added in Python 3.6.\n",
    "\n",
    "Using type hints improves the readability and maintainability of code.  Additionally, IDEs and static analysis tools can verify that the type hints are being complied with."
   ]
  },
  {
   "cell_type": "code",
   "execution_count": 7,
   "metadata": {
    "collapsed": true
   },
   "outputs": [],
   "source": [
    "# The function below takes and returns a string and is annotated as follows:\n",
    "def greeting(name: str) -> str:\n",
    "    return 'Hello ' + name"
   ]
  },
  {
   "cell_type": "code",
   "execution_count": 8,
   "metadata": {},
   "outputs": [
    {
     "data": {
      "text/plain": [
       "'Hello Todd'"
      ]
     },
     "execution_count": 8,
     "metadata": {},
     "output_type": "execute_result"
    }
   ],
   "source": [
    "greeting('Todd')"
   ]
  },
  {
   "cell_type": "code",
   "execution_count": 9,
   "metadata": {},
   "outputs": [
    {
     "ename": "TypeError",
     "evalue": "must be str, not int",
     "output_type": "error",
     "traceback": [
      "\u001b[0;31m---------------------------------------------------------------------------\u001b[0m",
      "\u001b[0;31mTypeError\u001b[0m                                 Traceback (most recent call last)",
      "\u001b[0;32m<ipython-input-9-f68ae3e5573d>\u001b[0m in \u001b[0;36m<module>\u001b[0;34m()\u001b[0m\n\u001b[0;32m----> 1\u001b[0;31m \u001b[0mgreeting\u001b[0m\u001b[0;34m(\u001b[0m\u001b[0;36m1\u001b[0m\u001b[0;34m)\u001b[0m\u001b[0;34m\u001b[0m\u001b[0m\n\u001b[0m",
      "\u001b[0;32m<ipython-input-7-da17015b8057>\u001b[0m in \u001b[0;36mgreeting\u001b[0;34m(name)\u001b[0m\n\u001b[1;32m      1\u001b[0m \u001b[0;31m# The function below takes and returns a string and is annotated as follows:\u001b[0m\u001b[0;34m\u001b[0m\u001b[0;34m\u001b[0m\u001b[0m\n\u001b[1;32m      2\u001b[0m \u001b[0;32mdef\u001b[0m \u001b[0mgreeting\u001b[0m\u001b[0;34m(\u001b[0m\u001b[0mname\u001b[0m\u001b[0;34m:\u001b[0m \u001b[0mstr\u001b[0m\u001b[0;34m)\u001b[0m \u001b[0;34m->\u001b[0m \u001b[0mstr\u001b[0m\u001b[0;34m:\u001b[0m\u001b[0;34m\u001b[0m\u001b[0m\n\u001b[0;32m----> 3\u001b[0;31m     \u001b[0;32mreturn\u001b[0m \u001b[0;34m'Hello '\u001b[0m \u001b[0;34m+\u001b[0m \u001b[0mname\u001b[0m\u001b[0;34m\u001b[0m\u001b[0m\n\u001b[0m",
      "\u001b[0;31mTypeError\u001b[0m: must be str, not int"
     ]
    }
   ],
   "source": [
    "greeting(1)"
   ]
  },
  {
   "cell_type": "markdown",
   "metadata": {},
   "source": [
    "### Mypy\n",
    "Mypy is an optional static type checker for Python that aims to combine the benefits of dynamic (or \"duck\") typing and static typing. Mypy combines the expressive power and convenience of Python with a powerful type system and compile-time type checking"
   ]
  },
  {
   "cell_type": "markdown",
   "metadata": {},
   "source": [
    "## Other Interesting Tools Discussed at PyCon\n",
    "1. [Micropython](https://micropython.org/)\n",
    "    * Lean and efficient implementation of Python aimed at microcontrollers\n",
    "    * Runs in 256 kB code space and 16 kB RAM\n",
    "    * Includes a small subset of the Python 3 programming language and library\n",
    "    * [pyboard](https://www.adafruit.com/product/2390) hardware from AdaFruit\n",
    "    * [CircuitPython](https://github.com/adafruit/circuitpython) sister project\n",
    "    * Micropython [documentation](https://docs.micropython.org/)\n",
    "    * Number of talks\n",
    "        * **IoT Lab with Micropython** by Sev Leonard\n",
    "            * [Video](https://www.youtube.com/watch?v=9BUakSTQwb4)\n",
    "            * Docs for [ESP8266](https://docs.micropython.org/en/latest/esp8266/index.html) board\n",
    "        * **The Memory Chronicles: A Tale of Two Pythons** by Kavya Joshi\n",
    "            * [Video](https://www.youtube.com/watch?v=d7qEzpnkWaY)\n",
    "            * [Slides](https://speakerdeck.com/kavya719/the-memory-chronicles)\n",
    "        * **Look mum no hands! From blinking LEDs to a bike speedometer with MicroPython** by Tim Head\n",
    "            * [Video](https://www.youtube.com/watch?v=D-5V7s0GflU)\n",
    "            * [Code](https://github.com/betatim/pycon17-no-hands)\n",
    "1. [PyPy](http://pypy.org/) JIT is now mature and ready for commercial use (for Python 2.7 equivalent, Python 3.5 version is beta quality)\n",
    "    * [Fast](http://speed.pypy.org) alternative implementation of Python in Python\n",
    "    * Typically much faster than CPython due to a just-in-time compiler (JIT)\n",
    "        * On average, about 7.6 times faster\n",
    "    * Typically uses less memory as well due to garbage collector improvements\n",
    "    * No need to change your code at all - just run with pypy instead of python\n",
    "1. Python Vehicle Interface Toolkit ([pyvit](https://github.com/linklayer/pyvit))\n",
    "    * **Hacking Cars with Python** talk\n",
    "        * [Video](https://www.youtube.com/watch?v=3bZNhMcv4Y8)\n",
    "    * Author is [Eric Evenchick](https://us.pycon.org/2017/speaker/profile/2309/)\n",
    "        * Works at [Atredis](https://www.atredis.com/), Canadian security company\n",
    "        * Owns small company [LinkLayer](http://www.linklayer.com/) which makes cheap open-source hardware for car hacking\n",
    "            * [CANtact](https://store.linklayer.com/collections/frontpage/products/cantact-v1-0?variant=1151776209) CAN to USB converter for $60\n",
    "    * pyvit deals with making the following things human-readable:\n",
    "        * CAN Bus - protocol, frames, etc.\n",
    "        * ISOTP\n",
    "        * Unified Diagnostic Services (UDS)\n",
    "1. [Conda Constructor](https://github.com/conda/constructor)\n",
    "    * Tool for constructing a custom Anaconda installer\n",
    "    * Free and open source\n",
    "    * Build just what your customer needs, no need for 470 MB installer\n",
    "    * Can have newer version of Python and packages than OS package manager\n",
    "1. Facebook has developed a Python bytecode to [ebpf](http://www.brendangregg.com/ebpf.html) bytecode transpiler\n",
    "    * Allows you to run Python bytecode inside the Linux kernel\n",
    "    * Plans to open source it soon\n",
    "    * Useful for writing advanced tracing and packet inspection/routing tools\n",
    "    * Alex Gartrell from Facebook gave a presentation on **Executing python functions in the Linux kernel by transpiling to ebpf**\n",
    "        * [Video](https://www.youtube.com/watch?v=CpqMroMBGP4)\n",
    "        * [Slides](https://speakerdeck.com/pycon2017/alex-gartrell-executing-python-functions-in-the-linux-kernel-by-transpiling-to-bpf)\n",
    "1. Intel has the new Intel Distribution for Python\n",
    "    * Free Python distribution\n",
    "    * Focused on improved performance\n",
    "        * Due to linking against Intel Math Kernel Library (MKL)\n",
    "    * They also have tools (with I think they sell) which provide simultaneous C++ and Python debugging and profiling inside Visual Studio"
   ]
  },
  {
   "cell_type": "markdown",
   "metadata": {
    "collapsed": true
   },
   "source": [
    "## [Florida PyCon](http://flpy.org/)\n",
    "\n",
    "Florida PyCon will be the first Saturday in October (2017-10-07) from 8AM to 5PM\n",
    "\n",
    "The conference will be held in Orlando, FL at the Exchange downtown:\n",
    "Church Street Station Exchange\n",
    "101 S Garland Ave\n",
    "Orlando, FL 32801"
   ]
  },
  {
   "cell_type": "markdown",
   "metadata": {
    "collapsed": true
   },
   "source": [
    "## [cmd2](https://github.com/python-cmd2/cmd2)\n",
    "As part of the work on the NasaPen program Kevin Van Brunt and I have been maintaining the cmd2 open-source Python library for rapidly developing interactive command-line applications.  It can be used to easily create a full-featured shell with capabilities similar to Bash out-of-the-box.\n",
    "\n",
    "I met with the original author at PyCon and got joint ownership of the [PyPI](https://pypi.python.org/pypi/cmd2) account so that I can publish releases and users can install the latest version via pip.\n",
    "\n",
    "You can learn more about cmd2 by reading the [documentation](https://cmd2.readthedocs.io).  Or if you are like me, just go look at some of the [examples](https://github.com/python-cmd2/cmd2/tree/master/examples) on GitHub."
   ]
  },
  {
   "cell_type": "code",
   "execution_count": null,
   "metadata": {
    "collapsed": true
   },
   "outputs": [],
   "source": []
  }
 ],
 "metadata": {
  "kernelspec": {
   "display_name": "Python 3",
   "language": "python",
   "name": "python3"
  },
  "language_info": {
   "codemirror_mode": {
    "name": "ipython",
    "version": 3
   },
   "file_extension": ".py",
   "mimetype": "text/x-python",
   "name": "python",
   "nbconvert_exporter": "python",
   "pygments_lexer": "ipython3",
   "version": "3.6.1"
  }
 },
 "nbformat": 4,
 "nbformat_minor": 2
}
